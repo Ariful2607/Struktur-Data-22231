{
 "cells": [
  {
   "cell_type": "code",
   "execution_count": 8,
   "metadata": {},
   "outputs": [],
   "source": [
    "import numpy\r\n",
    "l = [[1, 2, 3], [3, 6, 9], [2, 4, 6]]  # create a list \r\n",
    "a = numpy.array(l)  # convert a list to an array \r\n",
    "# print(a) \r\n",
    "# a.shape \r\n",
    "# print(a.dtype)  # get type of an array \r\n",
    "# # or directly as matrix\r\n",
    "\r\n",
    "# M = numpy.array([[1, 2], [3, 4]])\r\n",
    "# M.shape\r\n",
    "# M.dtype"
   ]
  },
  {
   "cell_type": "code",
   "execution_count": 17,
   "metadata": {},
   "outputs": [
    {
     "name": "stdout",
     "output_type": "stream",
     "text": [
      "[[1 2 3]\n",
      " [3 6 9]\n",
      " [2 4 6]]\n",
      "[2 6 4]\n"
     ]
    }
   ],
   "source": [
    "print(a) \r\n",
    "# print(a[2])  # this is just like a list of lists \r\n",
    "# print(a[1,2])  # arrays can be given comma separated indices \r\n",
    "# print(a[2, 0:3])  # and slices \r\n",
    "print(a[:,1]) "
   ]
  }
 ],
 "metadata": {
  "kernelspec": {
   "display_name": "Python 3.7.6 64-bit (conda)",
   "metadata": {
    "interpreter": {
     "hash": "dcf12bb74d419172c684f6deea540a0df5988ff30a117def4ba621da6d7b5307"
    }
   },
   "name": "python3"
  },
  "language_info": {
   "codemirror_mode": {
    "name": "ipython",
    "version": 3
   },
   "file_extension": ".py",
   "mimetype": "text/x-python",
   "name": "python",
   "nbconvert_exporter": "python",
   "pygments_lexer": "ipython3",
   "version": "3.7.6"
  },
  "orig_nbformat": 2
 },
 "nbformat": 4,
 "nbformat_minor": 2
}