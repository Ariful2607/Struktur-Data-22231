{
 "cells": [
  {
   "cell_type": "code",
   "execution_count": 5,
   "metadata": {},
   "outputs": [
    {
     "name": "stdout",
     "output_type": "stream",
     "text": [
      "[5, 7]\n"
     ]
    }
   ],
   "source": [
    "a = [1,3,5,7,9]\r\n",
    "# print(a)\r\n",
    "# print(a[2])\r\n",
    "# print(a[2:4])"
   ]
  },
  {
   "cell_type": "code",
   "execution_count": 9,
   "metadata": {},
   "outputs": [
    {
     "name": "stdout",
     "output_type": "stream",
     "text": [
      "[6, 8]\n"
     ]
    }
   ],
   "source": [
    "b = [[1, 3, 5, 7, 9], [2, 4, 6, 8, 10]]\r\n",
    "# print(b)\r\n",
    "# print(b[1])\r\n",
    "# print(b[1][2:4]) "
   ]
  },
  {
   "cell_type": "code",
   "execution_count": 8,
   "metadata": {},
   "outputs": [
    {
     "name": "stdout",
     "output_type": "stream",
     "text": [
      "[1, 3, 5, 7, 9, 3, 5, 6, 7, 9]\n"
     ]
    }
   ],
   "source": [
    "a = [1,3,5,7,9] \r\n",
    "b = [3,5,6,7,9]\r\n",
    "c = a + b\r\n",
    "print (c)\r\n"
   ]
  }
 ],
 "metadata": {
  "kernelspec": {
   "display_name": "Python 3.8.3 32-bit",
   "metadata": {
    "interpreter": {
     "hash": "d30edd0e3a03118c9140774eec7782c612a7ebc6ebb09a93601168edf6179fe7"
    }
   },
   "name": "python3"
  },
  "language_info": {
   "codemirror_mode": {
    "name": "ipython",
    "version": 3
   },
   "file_extension": ".py",
   "mimetype": "text/x-python",
   "name": "python",
   "nbconvert_exporter": "python",
   "pygments_lexer": "ipython3",
   "version": "3.8.3"
  },
  "orig_nbformat": 2
 },
 "nbformat": 4,
 "nbformat_minor": 2
}